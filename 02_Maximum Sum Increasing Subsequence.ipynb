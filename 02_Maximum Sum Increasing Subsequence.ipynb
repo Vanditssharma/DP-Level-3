{
 "cells": [
  {
   "cell_type": "code",
   "execution_count": 3,
   "metadata": {},
   "outputs": [],
   "source": [
    "def maxSum(arr):\n",
    "    n = len(arr)\n",
    "    dp = [0 for i in range(n)]\n",
    "    omax = 0\n",
    "    for i in range(n):\n",
    "        num = 0\n",
    "        for j in range(i):\n",
    "            if(arr[i]>arr[j]):\n",
    "                if(num<dp[j]):\n",
    "                    num = dp[j]\n",
    "            \n",
    "        \n",
    "        dp[i] = num+arr[i]\n",
    "        if(omax<dp[i]):\n",
    "            omax=dp[i]  \n",
    "    print(omax)"
   ]
  },
  {
   "cell_type": "code",
   "execution_count": 4,
   "metadata": {},
   "outputs": [
    {
     "name": "stdout",
     "output_type": "stream",
     "text": [
      "255\n"
     ]
    }
   ],
   "source": [
    "arr = [10,22,9,33,21,50,41,60,80,1]\n",
    "maxSum(arr)"
   ]
  }
 ],
 "metadata": {
  "kernelspec": {
   "display_name": "Python 3",
   "language": "python",
   "name": "python3"
  },
  "language_info": {
   "codemirror_mode": {
    "name": "ipython",
    "version": 3
   },
   "file_extension": ".py",
   "mimetype": "text/x-python",
   "name": "python",
   "nbconvert_exporter": "python",
   "pygments_lexer": "ipython3",
   "version": "3.7.4"
  }
 },
 "nbformat": 4,
 "nbformat_minor": 2
}
