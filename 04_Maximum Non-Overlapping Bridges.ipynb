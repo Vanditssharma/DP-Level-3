{
 "cells": [
  {
   "cell_type": "code",
   "execution_count": 14,
   "metadata": {},
   "outputs": [],
   "source": [
    "def maxNonOverB():\n",
    "    \n",
    "    test = int(input())\n",
    "    arr = []\n",
    "    for t in range(test):\n",
    "        n,s = input().split()\n",
    "        n=int(n)\n",
    "        s=int(s)\n",
    "        arr.append([n,s])\n",
    "        \n",
    "    \n",
    "    arr.sort(key = lambda x: (x[0],x[1]))\n",
    "    # lambda seq: [int(i) for i in seq]\n",
    "    print(arr)\n",
    "    n = len(arr)\n",
    "    dp = [0 for i in range(n)]\n",
    "    omax = 0\n",
    "    for i in range(n):\n",
    "        maximum = 0\n",
    "        for j in range(i):\n",
    "            \n",
    "            if(arr[i][1]>arr[j][1]):\n",
    "                if(dp[j]>maximum):\n",
    "                    maximum = dp[j]\n",
    "                    \n",
    "        dp[i] = maximum +1\n",
    "        if(omax<dp[i]):\n",
    "            omax = dp[i]\n",
    "            \n",
    "    print(omax)\n",
    " "
   ]
  },
  {
   "cell_type": "code",
   "execution_count": 15,
   "metadata": {},
   "outputs": [
    {
     "name": "stdout",
     "output_type": "stream",
     "text": [
      "3\n",
      "0 1\n",
      "4 8\n",
      "4 5\n",
      "[[0, 1], [4, 5], [4, 8]]\n",
      "3\n"
     ]
    }
   ],
   "source": [
    "maxNonOverB()"
   ]
  }
 ],
 "metadata": {
  "kernelspec": {
   "display_name": "Python 3",
   "language": "python",
   "name": "python3"
  },
  "language_info": {
   "codemirror_mode": {
    "name": "ipython",
    "version": 3
   },
   "file_extension": ".py",
   "mimetype": "text/x-python",
   "name": "python",
   "nbconvert_exporter": "python",
   "pygments_lexer": "ipython3",
   "version": "3.7.4"
  }
 },
 "nbformat": 4,
 "nbformat_minor": 2
}
