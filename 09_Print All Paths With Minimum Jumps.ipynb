{
 "cells": [
  {
   "cell_type": "code",
   "execution_count": 4,
   "metadata": {},
   "outputs": [],
   "source": [
    "class bfsPath:\n",
    "    \n",
    "    def __init__(self,i,s,j,psf):\n",
    "        \n",
    "        self.i = i\n",
    "        self.s = s\n",
    "        self.j = j\n",
    "        self.psf = psf"
   ]
  },
  {
   "cell_type": "code",
   "execution_count": 7,
   "metadata": {},
   "outputs": [],
   "source": [
    "import sys\n",
    "import queue\n",
    "def minJumps(arr):\n",
    "    \n",
    "    n = len(arr)\n",
    "    dp = [None for i in range(n)]\n",
    "    dp[-1] = 0\n",
    "    for i in range(n-2,-1,-1):\n",
    "        m = sys.maxsize\n",
    "        steps = arr[i]\n",
    "        \n",
    "        for j in range(1,steps+1):\n",
    "            if(i+j<n):\n",
    "                if(dp[i+j] !=None and dp[i+j]<m ):\n",
    "                    m = dp[i+j]\n",
    "                    \n",
    "                    \n",
    "        \n",
    "        if(m != sys.maxsize):\n",
    "            dp[i] = m+1\n",
    "            \n",
    "    print(dp[0])\n",
    "    \n",
    "    q = queue.Queue()\n",
    "    newNode = bfsPath(0,arr[0],dp[0],'0')\n",
    "    q.put(newNode)\n",
    "    \n",
    "    \n",
    "    while q.empty() is False:\n",
    "        emp = q.get()\n",
    "        if emp.s==0:\n",
    "            print(emp.psf)\n",
    "        \n",
    "        \n",
    "        for j in range(1,emp.s+1):\n",
    "            \n",
    "            if(j+emp.i<n and dp[j+emp.i]==emp.j-1):\n",
    "                newNode = bfsPath(j+emp.i,arr[j+emp.i],dp[j+emp.i],emp.psf+'->'+str(j+emp.i))\n",
    "                q.put(newNode)\n",
    "                \n",
    "                \n",
    "            \n",
    "        \n",
    "        \n",
    "                \n",
    "        \n",
    "        \n",
    "        \n",
    "    "
   ]
  },
  {
   "cell_type": "code",
   "execution_count": 8,
   "metadata": {},
   "outputs": [
    {
     "name": "stdout",
     "output_type": "stream",
     "text": [
      "4\n",
      "0->3->5->6->9\n",
      "0->3->5->7->9\n"
     ]
    }
   ],
   "source": [
    "arr = [3,3,0,2,1,2,4,2,0,0]\n",
    "minJumps(arr)"
   ]
  }
 ],
 "metadata": {
  "kernelspec": {
   "display_name": "Python 3",
   "language": "python",
   "name": "python3"
  },
  "language_info": {
   "codemirror_mode": {
    "name": "ipython",
    "version": 3
   },
   "file_extension": ".py",
   "mimetype": "text/x-python",
   "name": "python",
   "nbconvert_exporter": "python",
   "pygments_lexer": "ipython3",
   "version": "3.7.4"
  }
 },
 "nbformat": 4,
 "nbformat_minor": 2
}
